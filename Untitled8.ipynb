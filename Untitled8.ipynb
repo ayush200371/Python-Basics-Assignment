{
  "nbformat": 4,
  "nbformat_minor": 0,
  "metadata": {
    "colab": {
      "provenance": []
    },
    "kernelspec": {
      "name": "python3",
      "display_name": "Python 3"
    },
    "language_info": {
      "name": "python"
    }
  },
  "cells": [
    {
      "cell_type": "markdown",
      "source": [
        "\n",
        "\n",
        "```\n",
        "# This is formatted as code\n",
        "```\n",
        "\n"
      ],
      "metadata": {
        "id": "pEjDp7KIZ1r1"
      }
    },
    {
      "cell_type": "code",
      "execution_count": null,
      "metadata": {
        "id": "RSwAZCVMZc0Q"
      },
      "outputs": [],
      "source": [
        "PYTHON ASSIGNMENT"
      ]
    },
    {
      "cell_type": "markdown",
      "source": [],
      "metadata": {
        "id": "eSEkYZkWZvYB"
      }
    },
    {
      "cell_type": "markdown",
      "source": [
        "#PYTHON ASSIGNMENT\n"
      ],
      "metadata": {
        "id": "qV7PeC6WZ0H2"
      }
    },
    {
      "cell_type": "markdown",
      "source": [],
      "metadata": {
        "id": "EEylZDGfaMp7"
      }
    },
    {
      "cell_type": "markdown",
      "source": [
        "Q1. What is Python, and why is it popular\n",
        "\n",
        "    - Python is a high-level, interpreted programming\n",
        "     language known for its simplicity, readability, and versatility.\n",
        "     It is popular because:\n",
        "     1.Easy to learn and use\n",
        "     2.versatile applications\n",
        "     3.vast number of libraries\n",
        "     4.cross platform\n",
        "\n",
        "Q2.What is an interpreter in Python?\n",
        "\n",
        "   - An interpreter in Python is a program that reads and executes Python code line by line. It converts the high-level Python code into machine-readable instructions at runtime, allowing the program to run directly without prior compilation.\n",
        "\n",
        "Q3.What are pre-defined keywords in Python?\n",
        "\n",
        "   - the pre-defined keywords are those keywords in python which has some specific meaning and task to perform .you cannot use them as variable name,function name or identifiers.\n",
        "   eg:if-else,while,for,der,return etc:\n",
        "\n",
        "Q4.Can keywords be used as variable names?\n",
        "\n",
        "   - No, keywords cannot be used as variable names in Python. They are reserved by the language to define its syntax and structure, so using them as variable names will cause a syntax error.\n",
        "\n",
        "Q5.What is mutability in Python?\n",
        "\n",
        "   - Mutability in Python refers to whether an object's\n",
        "    value can be changed after it is created.Object which can be changed or editted can be reffered as mutable objects.\n",
        "\n",
        "Q6. Why are lists mutable, but tuples are immutable?\n",
        "\n",
        "     - Lists are mutable because they are designed to store\n",
        "      collections of items that may change—you can add, remove, or modify elements.\n",
        "\n",
        "      Tuples are immutable because they are meant to be fixed collections of items. Once created, their contents cannot be altered.\n",
        "\n",
        "Q7.What is the difference between “==” and “is” operators  \n",
        "   in Python?\n",
        "   - \"==\" is an Equality operator:\n",
        "      Checks if values are equal, regardless of whether they are the same object and also Compares the identity\n",
        "\n",
        "Q8.What are logical operators in Python?\n",
        "   - Logical operators in Python are used to combine or modify boolean expressions (conditions). They return either True or False.\n",
        "   Three types:\n",
        "   AND\n",
        "   OR\n",
        "   NOT\n",
        "\n",
        "Q9.What is type casting in Python?\n",
        "   - Type casting in Python means converting a value from one data type to another, like from a string to an integer or a float to a string.\n",
        "\n",
        "Q10. What is the difference between implicit and explicit\n",
        "     type casting?\n",
        "\n",
        "      Implicit Type Casting\n",
        "     - Automatically done by Python when it needs to  \n",
        "       convert one data type to another for a particular operation.\n",
        "\n",
        "     - Happens without any user intervention.\n",
        "\n",
        "     - Usually occurs when there is no loss of data or precision (like converting from int to float).  \n",
        "\n",
        "      Explicit Type Casting\n",
        "     - Manually done by the programmer using functions like int(), float(), str(), etc.\n",
        "\n",
        "     - You explicitly tell Python to convert a value to a specific type.  \n",
        "     \n",
        "Q11.What is the purpose of conditional statements in   \n",
        "  Python?\n",
        "    - The purpose of conditional statements in Python is to\n",
        "      let your program make decisions based on certain conditions.\n",
        "\n",
        "    - They allow the program to execute different blocks of\n",
        "      code depending on whether a condition is True or False.\n",
        "\n",
        "Q12.How does the elif statement work?\n",
        "    - The elif (short for \"else if\") statement in Python is used to check multiple conditions after an if statement. It only runs if the if condition is False, and it stops checking once a True condition is found.\n",
        "  \n",
        "Q13.What is the difference between for and while loops?\n",
        "\n",
        "     FOR LOOP\n",
        "    - Used when you know in advance how many times to loop (e.g., looping over a sequence).\n",
        "\n",
        "     WHILE LOOP\n",
        "    - Used when you don’t know in advance how many times to loop.\n",
        "\n",
        "    - Repeats as long as a condition is true.  \n",
        "\n",
        "Q14. Describe a scenario where a while loop is more suitable than a for loop?\n",
        "\n",
        "    - A while loop is more suitable than a for loop when you don’t know ahead of time how many times the loop will run, and you need to loop based on a condition that may change dynamically.\n",
        "\n",
        "     SCENARIO:User Login Attempt\n",
        "     - Imagine you're writing a login system where the user keeps trying until they enter the correct password.\n",
        "      \n",
        "     - Here, you don’t know how many attempts the user will take.\n",
        "\n",
        "    - A for loop wouldn't be ideal, because the number of\n",
        "      iterations isn’t fixed.\n",
        "\n",
        "       \n",
        "\n",
        "\n",
        "\n",
        "\n"
      ],
      "metadata": {
        "id": "yczRGQ5QaLBQ"
      }
    },
    {
      "cell_type": "markdown",
      "source": [
        "# PRACTICAL QUESTIONS"
      ],
      "metadata": {
        "id": "xU-5C7qSvyc0"
      }
    },
    {
      "cell_type": "markdown",
      "source": [
        "Q1.Write a Python program to print \"Hello, World!"
      ],
      "metadata": {
        "id": "v68n3K9Nv4gU"
      }
    },
    {
      "cell_type": "code",
      "source": [
        "print(\"Hello World\")"
      ],
      "metadata": {
        "colab": {
          "base_uri": "https://localhost:8080/"
        },
        "id": "0KGYdLSIwBgW",
        "outputId": "9dc90e0e-e9fd-47be-ee13-dfda14193859"
      },
      "execution_count": 1,
      "outputs": [
        {
          "output_type": "stream",
          "name": "stdout",
          "text": [
            "Hello World\n"
          ]
        }
      ]
    },
    {
      "cell_type": "markdown",
      "source": [
        "Q2.Write a Python program that displays your name and age"
      ],
      "metadata": {
        "id": "0FvYYi70wKAt"
      }
    },
    {
      "cell_type": "code",
      "source": [
        "name= \"Ayush\"\n",
        "age=21\n",
        "\n",
        "print(\"My Name is\",name)\n",
        "print(\"my Age is\",age)"
      ],
      "metadata": {
        "colab": {
          "base_uri": "https://localhost:8080/"
        },
        "id": "R0lEKWT7wTWZ",
        "outputId": "a656ce57-8f03-4b8d-912c-4e98bb3eb6ed"
      },
      "execution_count": 6,
      "outputs": [
        {
          "output_type": "stream",
          "name": "stdout",
          "text": [
            "My Name is Ayush\n",
            "my Age is 21\n"
          ]
        }
      ]
    },
    {
      "cell_type": "markdown",
      "source": [
        "Q3.Write code to print all the pre-defined keywords in Python using the keyword libraryy"
      ],
      "metadata": {
        "id": "PXE1FI1ax2j9"
      }
    },
    {
      "cell_type": "code",
      "source": [
        "help(\"keywords\")\n"
      ],
      "metadata": {
        "colab": {
          "base_uri": "https://localhost:8080/"
        },
        "id": "RVycdKZ0x_Qj",
        "outputId": "b51cded9-4664-4a41-dfde-bf9769903656"
      },
      "execution_count": 12,
      "outputs": [
        {
          "output_type": "stream",
          "name": "stdout",
          "text": [
            "\n",
            "Here is a list of the Python keywords.  Enter any keyword to get more help.\n",
            "\n",
            "False               class               from                or\n",
            "None                continue            global              pass\n",
            "True                def                 if                  raise\n",
            "and                 del                 import              return\n",
            "as                  elif                in                  try\n",
            "assert              else                is                  while\n",
            "async               except              lambda              with\n",
            "await               finally             nonlocal            yield\n",
            "break               for                 not                 \n",
            "\n"
          ]
        }
      ]
    },
    {
      "cell_type": "markdown",
      "source": [
        "Q4.Write a program that checks if a given word is a Python keyword."
      ],
      "metadata": {
        "id": "lwO23eS34usW"
      }
    },
    {
      "cell_type": "code",
      "source": [
        "import keyword\n",
        "\n",
        "word=input(\"enter a word:\")\n",
        "\n",
        "if keyword.iskeyword(word):\n",
        "  print(f\"'{word} is a python keyword.\")\n",
        "\n",
        "else:\n",
        "       print(f\"'{word} is not a python keyword.\")"
      ],
      "metadata": {
        "colab": {
          "base_uri": "https://localhost:8080/"
        },
        "id": "AWlTG7as5AO9",
        "outputId": "6f242324-f66f-4e44-a3b8-33b32b66ca71"
      },
      "execution_count": 15,
      "outputs": [
        {
          "output_type": "stream",
          "name": "stdout",
          "text": [
            "enter a word:if\n",
            "'if is a python keyword.\n"
          ]
        }
      ]
    },
    {
      "cell_type": "markdown",
      "source": [
        " Q5.Create a list and tuple in Python, and demonstrate how attempting to change an element works differently\n",
        "for each"
      ],
      "metadata": {
        "id": "-sVQAQRd6H_O"
      }
    },
    {
      "cell_type": "code",
      "source": [
        "my_list = [10, 20, 30]\n",
        "my_tuple = (10, 20, 30)\n",
        "\n",
        "\n",
        "my_list[1] = 99\n",
        "print(\"Modified list:\", my_list)\n",
        "\n",
        "\n",
        "try:\n",
        "    my_tuple[1] = 99\n",
        "except TypeError as e:\n",
        "    print(\"Error modifying tuple:\", e)"
      ],
      "metadata": {
        "colab": {
          "base_uri": "https://localhost:8080/"
        },
        "id": "s1g82cCr6c9o",
        "outputId": "6ce39fb8-f4b0-4aa8-d013-fb88c5f16dd5"
      },
      "execution_count": 16,
      "outputs": [
        {
          "output_type": "stream",
          "name": "stdout",
          "text": [
            "Modified list: [10, 99, 30]\n",
            "Error modifying tuple: 'tuple' object does not support item assignment\n"
          ]
        }
      ]
    },
    {
      "cell_type": "markdown",
      "source": [
        "Q6.Write a function to demonstrate the behavior of mutable and immutable arguments."
      ],
      "metadata": {
        "id": "OtmYh-IK7OJQ"
      }
    },
    {
      "cell_type": "code",
      "source": [
        "def modify_args(num, num_list):\n",
        "    num += 10\n",
        "    num_list.append(99)\n",
        "    print(\"Inside function:\")\n",
        "    print(\"num =\", num)\n",
        "    print(\"num_list =\", num_list)\n",
        "\n",
        "\n",
        "x = 5\n",
        "my_list = [1, 2, 3]\n",
        "\n",
        "modify_args(x, my_list)\n",
        "\n",
        "print(\"\\nOutside function:\")\n",
        "print(\"x =\", x)\n",
        "print(\"my_list =\", my_list)"
      ],
      "metadata": {
        "colab": {
          "base_uri": "https://localhost:8080/"
        },
        "id": "-dRRcemH7TUl",
        "outputId": "1683c198-57eb-4089-dd46-893d76bffed3"
      },
      "execution_count": 17,
      "outputs": [
        {
          "output_type": "stream",
          "name": "stdout",
          "text": [
            "Inside function:\n",
            "num = 15\n",
            "num_list = [1, 2, 3, 99]\n",
            "\n",
            "Outside function:\n",
            "x = 5\n",
            "my_list = [1, 2, 3, 99]\n"
          ]
        }
      ]
    },
    {
      "cell_type": "markdown",
      "source": [
        " Q7.Write a program that performs basic arithmetic operations on two user-input numbers."
      ],
      "metadata": {
        "id": "hIZFUPgF7k9S"
      }
    },
    {
      "cell_type": "code",
      "source": [
        "num1 = float(input(\"Enter first number: \"))\n",
        "num2 = float(input(\"Enter second number: \"))\n",
        "\n",
        "\n",
        "print(\"\\nResults:\")\n",
        "print(\"Addition:\", num1 + num2)\n",
        "print(\"Subtraction:\", num1 - num2)\n",
        "print(\"Multiplication:\", num1 * num2)\n",
        "\n",
        "\n",
        "if num2 != 0:\n",
        "    print(\"Division:\", num1 / num2)\n",
        "else:\n",
        "    print(\"Division: Cannot divide by zero\")"
      ],
      "metadata": {
        "colab": {
          "base_uri": "https://localhost:8080/"
        },
        "id": "u2K2vpAY7rLB",
        "outputId": "b28f2041-705e-41ba-a6a6-b0c240b44307"
      },
      "execution_count": 18,
      "outputs": [
        {
          "output_type": "stream",
          "name": "stdout",
          "text": [
            "Enter first number: 17\n",
            "Enter second number: 12\n",
            "\n",
            "Results:\n",
            "Addition: 29.0\n",
            "Subtraction: 5.0\n",
            "Multiplication: 204.0\n",
            "Division: 1.4166666666666667\n"
          ]
        }
      ]
    },
    {
      "cell_type": "markdown",
      "source": [
        " Q8.Write a program to demonstrate the use of logical operators."
      ],
      "metadata": {
        "id": "4WZCfOo58GEK"
      }
    },
    {
      "cell_type": "code",
      "source": [
        "age = int(input(\"Enter your age: \"))\n",
        "is_citizen = input(\"Are you a citizen? (yes/no): \").lower() == \"yes\"\n",
        "\n",
        "# AND operator\n",
        "if age >= 18 and is_citizen:\n",
        "    print(\"You are eligible to vote.\")\n",
        "else:\n",
        "    print(\"You are NOT eligible to vote.\")\n",
        "\n",
        "# OR operator\n",
        "if age >= 18 or is_citizen:\n",
        "    print(\"You meet at least one condition (age or citizenship).\")\n",
        "\n",
        "# NOT operator\n",
        "if not is_citizen:\n",
        "    print(\"You are not a citizen.\")"
      ],
      "metadata": {
        "colab": {
          "base_uri": "https://localhost:8080/"
        },
        "id": "MCEpQfEb8j8Z",
        "outputId": "b7a1a1d2-1689-4fa5-96f2-cbd7ca8c782a"
      },
      "execution_count": 19,
      "outputs": [
        {
          "output_type": "stream",
          "name": "stdout",
          "text": [
            "Enter your age: 21\n",
            "Are you a citizen? (yes/no): yes\n",
            "You are eligible to vote.\n",
            "You meet at least one condition (age or citizenship).\n"
          ]
        }
      ]
    },
    {
      "cell_type": "markdown",
      "source": [
        " Q9.Write a Python program to convert user input from string to integer, float, and boolean types."
      ],
      "metadata": {
        "id": "rTR_UoAo8xvk"
      }
    },
    {
      "cell_type": "code",
      "source": [
        "user_input = input(\"Enter a value: \")\n",
        "\n",
        "# Convert to integer\n",
        "try:\n",
        "    int_value = int(user_input)\n",
        "    print(\"Integer:\", int_value)\n",
        "except ValueError:\n",
        "    print(\"Cannot convert to integer.\")\n",
        "\n",
        "# Convert to float\n",
        "try:\n",
        "    float_value = float(user_input)\n",
        "    print(\"Float:\", float_value)\n",
        "except ValueError:\n",
        "    print(\"Cannot convert to float.\")\n",
        "\n",
        "# Convert to boolean\n",
        "bool_value = bool(user_input)\n",
        "print(\"Boolean:\", bool_value)"
      ],
      "metadata": {
        "colab": {
          "base_uri": "https://localhost:8080/"
        },
        "id": "CrX-HUgP9KE4",
        "outputId": "7e7c6e94-71b4-4e79-f49c-99c65dcf36cc"
      },
      "execution_count": 20,
      "outputs": [
        {
          "output_type": "stream",
          "name": "stdout",
          "text": [
            "Enter a value: 25\n",
            "Integer: 25\n",
            "Float: 25.0\n",
            "Boolean: True\n"
          ]
        }
      ]
    },
    {
      "cell_type": "markdown",
      "source": [
        "Q10.Write code to demonstrate type casting with list elements."
      ],
      "metadata": {
        "id": "TjPaZIMt9a4n"
      }
    },
    {
      "cell_type": "code",
      "source": [
        "str_list = [\"10\", \"20\", \"30\", \"40\"]\n",
        "\n",
        "int_list = [int(x) for x in str_list]\n",
        "\n",
        "print(\"Original list (strings):\", str_list)\n",
        "print(\"Converted list (integers):\", int_list)"
      ],
      "metadata": {
        "colab": {
          "base_uri": "https://localhost:8080/"
        },
        "id": "ddm87fTb93AK",
        "outputId": "8bd50088-2316-49fe-ed69-454ffce306d1"
      },
      "execution_count": 21,
      "outputs": [
        {
          "output_type": "stream",
          "name": "stdout",
          "text": [
            "Original list (strings): ['10', '20', '30', '40']\n",
            "Converted list (integers): [10, 20, 30, 40]\n"
          ]
        }
      ]
    },
    {
      "cell_type": "markdown",
      "source": [
        "Q11.Write a program that checks if a number is positive, negative, or zero."
      ],
      "metadata": {
        "id": "63PEQv59-Es2"
      }
    },
    {
      "cell_type": "code",
      "source": [
        "num = float(input(\"Enter a number: \"))\n",
        "\n",
        "if num > 0:\n",
        "    print(\"The number is positive.\")\n",
        "elif num < 0:\n",
        "    print(\"The number is negative.\")\n",
        "else:\n",
        "    print(\"The number is zero.\")"
      ],
      "metadata": {
        "colab": {
          "base_uri": "https://localhost:8080/"
        },
        "id": "f3S37scx-RgM",
        "outputId": "5a104c43-99db-4446-848b-67d0fe46559b"
      },
      "execution_count": 22,
      "outputs": [
        {
          "output_type": "stream",
          "name": "stdout",
          "text": [
            "Enter a number: 18\n",
            "The number is positive.\n"
          ]
        }
      ]
    },
    {
      "cell_type": "markdown",
      "source": [
        "Q12.Write a for loop to print numbers from 1 to 10."
      ],
      "metadata": {
        "id": "_3wMuS3G-ZxU"
      }
    },
    {
      "cell_type": "code",
      "source": [
        "for i in range(11):\n",
        "  print (i)"
      ],
      "metadata": {
        "colab": {
          "base_uri": "https://localhost:8080/"
        },
        "id": "HsPG3ViA-hBv",
        "outputId": "06103250-5693-4b77-ea34-8225c0f591de"
      },
      "execution_count": 25,
      "outputs": [
        {
          "output_type": "stream",
          "name": "stdout",
          "text": [
            "0\n",
            "1\n",
            "2\n",
            "3\n",
            "4\n",
            "5\n",
            "6\n",
            "7\n",
            "8\n",
            "9\n",
            "10\n"
          ]
        }
      ]
    },
    {
      "cell_type": "markdown",
      "source": [
        "Q13.Write a Python program to find the sum of all even numbers between 1 and 50"
      ],
      "metadata": {
        "id": "ZEzuwI5f-261"
      }
    },
    {
      "cell_type": "code",
      "source": [
        "even_sum =0\n",
        "\n",
        "for num in range (1,51):\n",
        "  if num%2==0:\n",
        "     even_sum += num\n",
        "\n",
        "\n",
        "print(\"sum of even number from 1 50 is:\",even_sum)"
      ],
      "metadata": {
        "colab": {
          "base_uri": "https://localhost:8080/"
        },
        "id": "AD3AsuP2BKhg",
        "outputId": "0ddcd05f-8357-41ed-8755-4e06c6e50d21"
      },
      "execution_count": 42,
      "outputs": [
        {
          "output_type": "stream",
          "name": "stdout",
          "text": [
            "sum of even number from 1 50 is: 650\n"
          ]
        }
      ]
    },
    {
      "cell_type": "markdown",
      "source": [
        " Q14.Write a program to reverse a string using a while loop"
      ],
      "metadata": {
        "id": "YhePCa-TCSv-"
      }
    },
    {
      "cell_type": "code",
      "source": [
        "original_string = input(\"Enter a string: \")\n",
        "\n",
        "reversed_string = \"\"\n",
        "\n",
        "index = len(original_string) - 1\n",
        "\n",
        "while index >= 0:\n",
        "    reversed_string += original_string[index]\n",
        "    index -= 1\n",
        "\n",
        "print(\"Reversed string:\", reversed_string)"
      ],
      "metadata": {
        "colab": {
          "base_uri": "https://localhost:8080/"
        },
        "id": "ELgl5GONCxuz",
        "outputId": "66d984be-d776-4fc5-ce55-551991618215"
      },
      "execution_count": 43,
      "outputs": [
        {
          "output_type": "stream",
          "name": "stdout",
          "text": [
            "Enter a string: Ayush\n",
            "Reversed string: hsuyA\n"
          ]
        }
      ]
    },
    {
      "cell_type": "markdown",
      "source": [
        "Q15.Write a Python program to calculate the factorial of a number provided by the user using a while loop."
      ],
      "metadata": {
        "id": "V3upYbheDCSA"
      }
    },
    {
      "cell_type": "code",
      "source": [
        "num = int(input(\"Enter a number to calculate its factorial: \"))\n",
        "\n",
        "\n",
        "factorial = 1\n",
        "\n",
        "\n",
        "if num < 0:\n",
        "    print(\"Factorial is not defined for negative numbers.\")\n",
        "elif num == 0:\n",
        "    print(\"The factorial of 0 is 1.\")\n",
        "else:\n",
        "\n",
        "    while num > 1:\n",
        "        factorial *= num\n",
        "        num -= 1\n",
        "\n",
        "    print(\"The factorial is:\", factorial)"
      ],
      "metadata": {
        "colab": {
          "base_uri": "https://localhost:8080/"
        },
        "id": "WQrGjgTtDV86",
        "outputId": "76f87996-dc5c-49ad-fb81-83d7798d85c9"
      },
      "execution_count": 44,
      "outputs": [
        {
          "output_type": "stream",
          "name": "stdout",
          "text": [
            "Enter a number to calculate its factorial: 5\n",
            "The factorial is: 120\n"
          ]
        }
      ]
    },
    {
      "cell_type": "code",
      "source": [],
      "metadata": {
        "id": "495BervWDaQg"
      },
      "execution_count": null,
      "outputs": []
    }
  ]
}